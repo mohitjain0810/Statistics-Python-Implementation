{
  "nbformat": 4,
  "nbformat_minor": 0,
  "metadata": {
    "colab": {
      "provenance": []
    },
    "kernelspec": {
      "name": "python3",
      "display_name": "Python 3"
    },
    "language_info": {
      "name": "python"
    }
  },
  "cells": [
    {
      "cell_type": "markdown",
      "source": [
        "Inferential Statistics\n",
        "- Inferential statistics allow us to make predictions or generalizations about a population based on a sample of data."
      ],
      "metadata": {
        "id": "NwpGPeBcCgrg"
      }
    },
    {
      "cell_type": "markdown",
      "source": [
        "1. Sampling\n",
        "- Sampling is the process of selecting a subset (sample) from a larger group (population). There are two common methods:\n",
        "\n",
        "- **Simple Random Sampling**: Every individual has an equal chance of being selected.\n",
        "- **Stratified Sampling**: The population is divided into subgroups (strata), and samples are taken proportionally from each group."
      ],
      "metadata": {
        "id": "6zihMx4DClSY"
      }
    },
    {
      "cell_type": "markdown",
      "source": [
        "**Code Example for Simple Random Sampling:**"
      ],
      "metadata": {
        "id": "p3GqeaMdC9Bs"
      }
    },
    {
      "cell_type": "code",
      "execution_count": 1,
      "metadata": {
        "colab": {
          "base_uri": "https://localhost:8080/"
        },
        "id": "zaMaYb9CAAur",
        "outputId": "c077a25b-2990-428e-c288-e0491c338a0b"
      },
      "outputs": [
        {
          "output_type": "stream",
          "name": "stdout",
          "text": [
            "Population:\n",
            "    Person\n",
            "0        1\n",
            "1        2\n",
            "2        3\n",
            "3        4\n",
            "4        5\n",
            "5        6\n",
            "6        7\n",
            "7        8\n",
            "8        9\n",
            "9       10\n",
            "10      11\n",
            "11      12\n",
            "12      13\n",
            "13      14\n",
            "14      15\n",
            "15      16\n",
            "16      17\n",
            "17      18\n",
            "18      19\n",
            "19      20\n",
            "\n",
            "Simple Random Sample without duplicates (no replacement):\n",
            "    Person\n",
            "0        1\n",
            "13      14\n",
            "12      13\n",
            "14      15\n",
            "7        8\n",
            "1        2\n",
            "5        6\n",
            "19      20\n",
            "6        7\n",
            "2        3\n",
            "\n",
            "Simple Random Sample with duplicates (with replacement):\n",
            "    Person\n",
            "15      16\n",
            "13      14\n",
            "16      17\n",
            "9       10\n",
            "11      12\n",
            "5        6\n",
            "12      13\n",
            "2        3\n",
            "19      20\n",
            "5        6\n"
          ]
        }
      ],
      "source": [
        "import pandas as pd\n",
        "import random\n",
        "\n",
        "# Population data: Assume a group of 20 people\n",
        "population = list(range(1, 21))  # Numbers 1 to 20 represent people\n",
        "\n",
        "# Convert population to DataFrame\n",
        "df_population = pd.DataFrame(population, columns=['Person'])\n",
        "\n",
        "# Simple Random Sampling: Pick 5 people randomly\n",
        "sample_size = 10\n",
        "\n",
        "# Option 1: Sampling without duplicates (replace=False)\n",
        "sample_without_duplicates = df_population.sample(n=sample_size, replace=False)\n",
        "\n",
        "# Option 2: Sampling with duplicates (replace=True)\n",
        "sample_with_duplicates = df_population.sample(n=sample_size, replace=True)\n",
        "\n",
        "# Print results\n",
        "print(\"Population:\")\n",
        "print(df_population)\n",
        "print(\"\\nSimple Random Sample without duplicates (no replacement):\")\n",
        "print(sample_without_duplicates)\n",
        "print(\"\\nSimple Random Sample with duplicates (with replacement):\")\n",
        "print(sample_with_duplicates)"
      ]
    },
    {
      "cell_type": "markdown",
      "source": [
        "**Code Example for Stratified Sampling:**"
      ],
      "metadata": {
        "id": "ue1w2vatDxru"
      }
    },
    {
      "cell_type": "code",
      "source": [
        "import pandas as pd"
      ],
      "metadata": {
        "id": "3KRf_KV9DYkx"
      },
      "execution_count": 2,
      "outputs": []
    },
    {
      "cell_type": "code",
      "source": [
        "df = pd.read_csv(\"StudentsPerformance.csv\")\n",
        "df.head(2)"
      ],
      "metadata": {
        "colab": {
          "base_uri": "https://localhost:8080/",
          "height": 112
        },
        "id": "-OXZ48rUkwfD",
        "outputId": "b4c01594-4712-4890-d51e-d5be9b273125"
      },
      "execution_count": 4,
      "outputs": [
        {
          "output_type": "execute_result",
          "data": {
            "text/plain": [
              "   gender race/ethnicity parental level of education     lunch  \\\n",
              "0  female        group B           bachelor's degree  standard   \n",
              "1  female        group C                some college  standard   \n",
              "\n",
              "  test preparation course  math score  reading score  writing score  \n",
              "0                    none          72             72             74  \n",
              "1               completed          69             90             88  "
            ],
            "text/html": [
              "\n",
              "  <div id=\"df-89e1563e-a4e4-49f5-b8d7-efb97eec32f9\" class=\"colab-df-container\">\n",
              "    <div>\n",
              "<style scoped>\n",
              "    .dataframe tbody tr th:only-of-type {\n",
              "        vertical-align: middle;\n",
              "    }\n",
              "\n",
              "    .dataframe tbody tr th {\n",
              "        vertical-align: top;\n",
              "    }\n",
              "\n",
              "    .dataframe thead th {\n",
              "        text-align: right;\n",
              "    }\n",
              "</style>\n",
              "<table border=\"1\" class=\"dataframe\">\n",
              "  <thead>\n",
              "    <tr style=\"text-align: right;\">\n",
              "      <th></th>\n",
              "      <th>gender</th>\n",
              "      <th>race/ethnicity</th>\n",
              "      <th>parental level of education</th>\n",
              "      <th>lunch</th>\n",
              "      <th>test preparation course</th>\n",
              "      <th>math score</th>\n",
              "      <th>reading score</th>\n",
              "      <th>writing score</th>\n",
              "    </tr>\n",
              "  </thead>\n",
              "  <tbody>\n",
              "    <tr>\n",
              "      <th>0</th>\n",
              "      <td>female</td>\n",
              "      <td>group B</td>\n",
              "      <td>bachelor's degree</td>\n",
              "      <td>standard</td>\n",
              "      <td>none</td>\n",
              "      <td>72</td>\n",
              "      <td>72</td>\n",
              "      <td>74</td>\n",
              "    </tr>\n",
              "    <tr>\n",
              "      <th>1</th>\n",
              "      <td>female</td>\n",
              "      <td>group C</td>\n",
              "      <td>some college</td>\n",
              "      <td>standard</td>\n",
              "      <td>completed</td>\n",
              "      <td>69</td>\n",
              "      <td>90</td>\n",
              "      <td>88</td>\n",
              "    </tr>\n",
              "  </tbody>\n",
              "</table>\n",
              "</div>\n",
              "    <div class=\"colab-df-buttons\">\n",
              "\n",
              "  <div class=\"colab-df-container\">\n",
              "    <button class=\"colab-df-convert\" onclick=\"convertToInteractive('df-89e1563e-a4e4-49f5-b8d7-efb97eec32f9')\"\n",
              "            title=\"Convert this dataframe to an interactive table.\"\n",
              "            style=\"display:none;\">\n",
              "\n",
              "  <svg xmlns=\"http://www.w3.org/2000/svg\" height=\"24px\" viewBox=\"0 -960 960 960\">\n",
              "    <path d=\"M120-120v-720h720v720H120Zm60-500h600v-160H180v160Zm220 220h160v-160H400v160Zm0 220h160v-160H400v160ZM180-400h160v-160H180v160Zm440 0h160v-160H620v160ZM180-180h160v-160H180v160Zm440 0h160v-160H620v160Z\"/>\n",
              "  </svg>\n",
              "    </button>\n",
              "\n",
              "  <style>\n",
              "    .colab-df-container {\n",
              "      display:flex;\n",
              "      gap: 12px;\n",
              "    }\n",
              "\n",
              "    .colab-df-convert {\n",
              "      background-color: #E8F0FE;\n",
              "      border: none;\n",
              "      border-radius: 50%;\n",
              "      cursor: pointer;\n",
              "      display: none;\n",
              "      fill: #1967D2;\n",
              "      height: 32px;\n",
              "      padding: 0 0 0 0;\n",
              "      width: 32px;\n",
              "    }\n",
              "\n",
              "    .colab-df-convert:hover {\n",
              "      background-color: #E2EBFA;\n",
              "      box-shadow: 0px 1px 2px rgba(60, 64, 67, 0.3), 0px 1px 3px 1px rgba(60, 64, 67, 0.15);\n",
              "      fill: #174EA6;\n",
              "    }\n",
              "\n",
              "    .colab-df-buttons div {\n",
              "      margin-bottom: 4px;\n",
              "    }\n",
              "\n",
              "    [theme=dark] .colab-df-convert {\n",
              "      background-color: #3B4455;\n",
              "      fill: #D2E3FC;\n",
              "    }\n",
              "\n",
              "    [theme=dark] .colab-df-convert:hover {\n",
              "      background-color: #434B5C;\n",
              "      box-shadow: 0px 1px 3px 1px rgba(0, 0, 0, 0.15);\n",
              "      filter: drop-shadow(0px 1px 2px rgba(0, 0, 0, 0.3));\n",
              "      fill: #FFFFFF;\n",
              "    }\n",
              "  </style>\n",
              "\n",
              "    <script>\n",
              "      const buttonEl =\n",
              "        document.querySelector('#df-89e1563e-a4e4-49f5-b8d7-efb97eec32f9 button.colab-df-convert');\n",
              "      buttonEl.style.display =\n",
              "        google.colab.kernel.accessAllowed ? 'block' : 'none';\n",
              "\n",
              "      async function convertToInteractive(key) {\n",
              "        const element = document.querySelector('#df-89e1563e-a4e4-49f5-b8d7-efb97eec32f9');\n",
              "        const dataTable =\n",
              "          await google.colab.kernel.invokeFunction('convertToInteractive',\n",
              "                                                    [key], {});\n",
              "        if (!dataTable) return;\n",
              "\n",
              "        const docLinkHtml = 'Like what you see? Visit the ' +\n",
              "          '<a target=\"_blank\" href=https://colab.research.google.com/notebooks/data_table.ipynb>data table notebook</a>'\n",
              "          + ' to learn more about interactive tables.';\n",
              "        element.innerHTML = '';\n",
              "        dataTable['output_type'] = 'display_data';\n",
              "        await google.colab.output.renderOutput(dataTable, element);\n",
              "        const docLink = document.createElement('div');\n",
              "        docLink.innerHTML = docLinkHtml;\n",
              "        element.appendChild(docLink);\n",
              "      }\n",
              "    </script>\n",
              "  </div>\n",
              "\n",
              "\n",
              "<div id=\"df-5548709e-22e1-4673-9cc7-214ceefe88dd\">\n",
              "  <button class=\"colab-df-quickchart\" onclick=\"quickchart('df-5548709e-22e1-4673-9cc7-214ceefe88dd')\"\n",
              "            title=\"Suggest charts\"\n",
              "            style=\"display:none;\">\n",
              "\n",
              "<svg xmlns=\"http://www.w3.org/2000/svg\" height=\"24px\"viewBox=\"0 0 24 24\"\n",
              "     width=\"24px\">\n",
              "    <g>\n",
              "        <path d=\"M19 3H5c-1.1 0-2 .9-2 2v14c0 1.1.9 2 2 2h14c1.1 0 2-.9 2-2V5c0-1.1-.9-2-2-2zM9 17H7v-7h2v7zm4 0h-2V7h2v10zm4 0h-2v-4h2v4z\"/>\n",
              "    </g>\n",
              "</svg>\n",
              "  </button>\n",
              "\n",
              "<style>\n",
              "  .colab-df-quickchart {\n",
              "      --bg-color: #E8F0FE;\n",
              "      --fill-color: #1967D2;\n",
              "      --hover-bg-color: #E2EBFA;\n",
              "      --hover-fill-color: #174EA6;\n",
              "      --disabled-fill-color: #AAA;\n",
              "      --disabled-bg-color: #DDD;\n",
              "  }\n",
              "\n",
              "  [theme=dark] .colab-df-quickchart {\n",
              "      --bg-color: #3B4455;\n",
              "      --fill-color: #D2E3FC;\n",
              "      --hover-bg-color: #434B5C;\n",
              "      --hover-fill-color: #FFFFFF;\n",
              "      --disabled-bg-color: #3B4455;\n",
              "      --disabled-fill-color: #666;\n",
              "  }\n",
              "\n",
              "  .colab-df-quickchart {\n",
              "    background-color: var(--bg-color);\n",
              "    border: none;\n",
              "    border-radius: 50%;\n",
              "    cursor: pointer;\n",
              "    display: none;\n",
              "    fill: var(--fill-color);\n",
              "    height: 32px;\n",
              "    padding: 0;\n",
              "    width: 32px;\n",
              "  }\n",
              "\n",
              "  .colab-df-quickchart:hover {\n",
              "    background-color: var(--hover-bg-color);\n",
              "    box-shadow: 0 1px 2px rgba(60, 64, 67, 0.3), 0 1px 3px 1px rgba(60, 64, 67, 0.15);\n",
              "    fill: var(--button-hover-fill-color);\n",
              "  }\n",
              "\n",
              "  .colab-df-quickchart-complete:disabled,\n",
              "  .colab-df-quickchart-complete:disabled:hover {\n",
              "    background-color: var(--disabled-bg-color);\n",
              "    fill: var(--disabled-fill-color);\n",
              "    box-shadow: none;\n",
              "  }\n",
              "\n",
              "  .colab-df-spinner {\n",
              "    border: 2px solid var(--fill-color);\n",
              "    border-color: transparent;\n",
              "    border-bottom-color: var(--fill-color);\n",
              "    animation:\n",
              "      spin 1s steps(1) infinite;\n",
              "  }\n",
              "\n",
              "  @keyframes spin {\n",
              "    0% {\n",
              "      border-color: transparent;\n",
              "      border-bottom-color: var(--fill-color);\n",
              "      border-left-color: var(--fill-color);\n",
              "    }\n",
              "    20% {\n",
              "      border-color: transparent;\n",
              "      border-left-color: var(--fill-color);\n",
              "      border-top-color: var(--fill-color);\n",
              "    }\n",
              "    30% {\n",
              "      border-color: transparent;\n",
              "      border-left-color: var(--fill-color);\n",
              "      border-top-color: var(--fill-color);\n",
              "      border-right-color: var(--fill-color);\n",
              "    }\n",
              "    40% {\n",
              "      border-color: transparent;\n",
              "      border-right-color: var(--fill-color);\n",
              "      border-top-color: var(--fill-color);\n",
              "    }\n",
              "    60% {\n",
              "      border-color: transparent;\n",
              "      border-right-color: var(--fill-color);\n",
              "    }\n",
              "    80% {\n",
              "      border-color: transparent;\n",
              "      border-right-color: var(--fill-color);\n",
              "      border-bottom-color: var(--fill-color);\n",
              "    }\n",
              "    90% {\n",
              "      border-color: transparent;\n",
              "      border-bottom-color: var(--fill-color);\n",
              "    }\n",
              "  }\n",
              "</style>\n",
              "\n",
              "  <script>\n",
              "    async function quickchart(key) {\n",
              "      const quickchartButtonEl =\n",
              "        document.querySelector('#' + key + ' button');\n",
              "      quickchartButtonEl.disabled = true;  // To prevent multiple clicks.\n",
              "      quickchartButtonEl.classList.add('colab-df-spinner');\n",
              "      try {\n",
              "        const charts = await google.colab.kernel.invokeFunction(\n",
              "            'suggestCharts', [key], {});\n",
              "      } catch (error) {\n",
              "        console.error('Error during call to suggestCharts:', error);\n",
              "      }\n",
              "      quickchartButtonEl.classList.remove('colab-df-spinner');\n",
              "      quickchartButtonEl.classList.add('colab-df-quickchart-complete');\n",
              "    }\n",
              "    (() => {\n",
              "      let quickchartButtonEl =\n",
              "        document.querySelector('#df-5548709e-22e1-4673-9cc7-214ceefe88dd button');\n",
              "      quickchartButtonEl.style.display =\n",
              "        google.colab.kernel.accessAllowed ? 'block' : 'none';\n",
              "    })();\n",
              "  </script>\n",
              "</div>\n",
              "\n",
              "    </div>\n",
              "  </div>\n"
            ],
            "application/vnd.google.colaboratory.intrinsic+json": {
              "type": "dataframe",
              "variable_name": "df",
              "summary": "{\n  \"name\": \"df\",\n  \"rows\": 1000,\n  \"fields\": [\n    {\n      \"column\": \"gender\",\n      \"properties\": {\n        \"dtype\": \"category\",\n        \"num_unique_values\": 2,\n        \"samples\": [\n          \"male\",\n          \"female\"\n        ],\n        \"semantic_type\": \"\",\n        \"description\": \"\"\n      }\n    },\n    {\n      \"column\": \"race/ethnicity\",\n      \"properties\": {\n        \"dtype\": \"category\",\n        \"num_unique_values\": 5,\n        \"samples\": [\n          \"group C\",\n          \"group E\"\n        ],\n        \"semantic_type\": \"\",\n        \"description\": \"\"\n      }\n    },\n    {\n      \"column\": \"parental level of education\",\n      \"properties\": {\n        \"dtype\": \"category\",\n        \"num_unique_values\": 6,\n        \"samples\": [\n          \"bachelor's degree\",\n          \"some college\"\n        ],\n        \"semantic_type\": \"\",\n        \"description\": \"\"\n      }\n    },\n    {\n      \"column\": \"lunch\",\n      \"properties\": {\n        \"dtype\": \"category\",\n        \"num_unique_values\": 2,\n        \"samples\": [\n          \"free/reduced\",\n          \"standard\"\n        ],\n        \"semantic_type\": \"\",\n        \"description\": \"\"\n      }\n    },\n    {\n      \"column\": \"test preparation course\",\n      \"properties\": {\n        \"dtype\": \"category\",\n        \"num_unique_values\": 2,\n        \"samples\": [\n          \"completed\",\n          \"none\"\n        ],\n        \"semantic_type\": \"\",\n        \"description\": \"\"\n      }\n    },\n    {\n      \"column\": \"math score\",\n      \"properties\": {\n        \"dtype\": \"number\",\n        \"std\": 15,\n        \"min\": 0,\n        \"max\": 100,\n        \"num_unique_values\": 81,\n        \"samples\": [\n          55,\n          72\n        ],\n        \"semantic_type\": \"\",\n        \"description\": \"\"\n      }\n    },\n    {\n      \"column\": \"reading score\",\n      \"properties\": {\n        \"dtype\": \"number\",\n        \"std\": 14,\n        \"min\": 17,\n        \"max\": 100,\n        \"num_unique_values\": 72,\n        \"samples\": [\n          78,\n          23\n        ],\n        \"semantic_type\": \"\",\n        \"description\": \"\"\n      }\n    },\n    {\n      \"column\": \"writing score\",\n      \"properties\": {\n        \"dtype\": \"number\",\n        \"std\": 15,\n        \"min\": 10,\n        \"max\": 100,\n        \"num_unique_values\": 77,\n        \"samples\": [\n          75,\n          76\n        ],\n        \"semantic_type\": \"\",\n        \"description\": \"\"\n      }\n    }\n  ]\n}"
            }
          },
          "metadata": {},
          "execution_count": 4
        }
      ]
    },
    {
      "cell_type": "code",
      "source": [
        "condition_A = df['race/ethnicity'] == \"group A\"\n",
        "group_A = df[condition_A] #strata A\n",
        "\n",
        "condition_B = df['race/ethnicity'] == \"group B\"\n",
        "group_B = df[condition_B] #strata B\n",
        "\n",
        "condition_C = df['race/ethnicity'] == \"group C\"\n",
        "group_C = df[condition_C] #strata C\n",
        "\n",
        "condition_D = df['race/ethnicity'] == \"group D\"\n",
        "group_D = df[condition_D] #strata D\n",
        "\n",
        "condition_E = df['race/ethnicity'] == \"group E\"\n",
        "group_E = df[condition_E] #strata E"
      ],
      "metadata": {
        "id": "0ZVuufctk0aN"
      },
      "execution_count": 5,
      "outputs": []
    },
    {
      "cell_type": "code",
      "source": [
        "group_A_sample = group_A.sample(n = 10, random_state= 0)\n",
        "group_B_sample = group_B.sample(n = 10, random_state= 0)\n",
        "group_C_sample = group_C.sample(n = 10, random_state= 0)\n",
        "group_D_sample = group_D.sample(n = 10, random_state= 0)\n",
        "group_E_sample = group_E.sample(n = 10, random_state= 0)"
      ],
      "metadata": {
        "id": "1Cm2uv3MlAEP"
      },
      "execution_count": 6,
      "outputs": []
    },
    {
      "cell_type": "code",
      "source": [
        "stratified_sample_df = pd.DataFrame()"
      ],
      "metadata": {
        "id": "49CS-XPelPqP"
      },
      "execution_count": 7,
      "outputs": []
    },
    {
      "cell_type": "code",
      "source": [
        "# stratified_sample_df = stratified_sample_df.append([group_A_sample, group_B_sample, group_C_sample, group_D_sample, group_E_sample])"
      ],
      "metadata": {
        "id": "gryd9t5vlUTH"
      },
      "execution_count": 8,
      "outputs": []
    },
    {
      "cell_type": "code",
      "source": [
        "import pandas as pd\n",
        "\n",
        "# Example dataset\n",
        "data = {\n",
        "    \"ID\": range(1, 21),\n",
        "    \"Category\": ['A', 'A', 'A', 'B', 'B', 'B', 'C', 'C', 'C', 'C',\n",
        "                 'D', 'D', 'D', 'D', 'D', 'E', 'E', 'E', 'E', 'E']\n",
        "}\n",
        "\n",
        "# Create a DataFrame\n",
        "df = pd.DataFrame(data)\n",
        "\n",
        "# Stratified Sampling: Sample 2 rows from each category\n",
        "stratified_sample = df.groupby('Category', group_keys=False).apply(\n",
        "    lambda x: x.sample(2, replace=False)  # Adjust sample size as needed\n",
        ")\n",
        "\n",
        "# Print the original data and the stratified sample\n",
        "print(\"Original Dataset:\")\n",
        "print(df)\n",
        "print(\"\\nStratified Sample:\")\n",
        "print(stratified_sample)"
      ],
      "metadata": {
        "colab": {
          "base_uri": "https://localhost:8080/"
        },
        "id": "JbULc36SlZUI",
        "outputId": "5477cc2d-0acf-4526-b583-56610e706376"
      },
      "execution_count": 9,
      "outputs": [
        {
          "output_type": "stream",
          "name": "stdout",
          "text": [
            "Original Dataset:\n",
            "    ID Category\n",
            "0    1        A\n",
            "1    2        A\n",
            "2    3        A\n",
            "3    4        B\n",
            "4    5        B\n",
            "5    6        B\n",
            "6    7        C\n",
            "7    8        C\n",
            "8    9        C\n",
            "9   10        C\n",
            "10  11        D\n",
            "11  12        D\n",
            "12  13        D\n",
            "13  14        D\n",
            "14  15        D\n",
            "15  16        E\n",
            "16  17        E\n",
            "17  18        E\n",
            "18  19        E\n",
            "19  20        E\n",
            "\n",
            "Stratified Sample:\n",
            "    ID Category\n",
            "1    2        A\n",
            "0    1        A\n",
            "3    4        B\n",
            "5    6        B\n",
            "6    7        C\n",
            "9   10        C\n",
            "12  13        D\n",
            "14  15        D\n",
            "15  16        E\n",
            "19  20        E\n"
          ]
        },
        {
          "output_type": "stream",
          "name": "stderr",
          "text": [
            "<ipython-input-9-18c9abbeed4e>:14: DeprecationWarning: DataFrameGroupBy.apply operated on the grouping columns. This behavior is deprecated, and in a future version of pandas the grouping columns will be excluded from the operation. Either pass `include_groups=False` to exclude the groupings or explicitly select the grouping columns after groupby to silence this warning.\n",
            "  stratified_sample = df.groupby('Category', group_keys=False).apply(\n"
          ]
        }
      ]
    },
    {
      "cell_type": "markdown",
      "source": [
        "- The groupby('Category') groups the DataFrame by the Category column, creating subgroups for each unique category (A, B, C, D, E).\n",
        "- For each group:\n",
        "-- The lambda function lambda x: x.sample(2, replace=False) randomly selects 2 rows without replacement.\n",
        "-- This ensures that exactly 2 samples are taken from each category.\n",
        "- The group_keys=False prevents the addition of group labels in the final sampled DataFrame."
      ],
      "metadata": {
        "id": "se1rxc85raL3"
      }
    },
    {
      "cell_type": "code",
      "source": [],
      "metadata": {
        "id": "2P5Gcj2ltuMu"
      },
      "execution_count": 9,
      "outputs": []
    },
    {
      "cell_type": "markdown",
      "source": [
        "2. Confidence Intervals\n",
        "\n",
        "A Confidence Interval (CI) gives a range of values where the true population parameter (like the mean) is likely to fall, based on a sample.\n",
        "\n",
        "For example, if we calculate a 95% CI for the sample mean, it means we're 95% confident the true mean of the population lies within that range.\n",
        "\n",
        "Formula for 95% Confidence Interval:\n",
        "\n",
        "Confidence Interval = x̄ ± z(s/√n)\n",
        "\n",
        "Where:\n",
        "\n",
        "x̄ : Sample mean\n",
        "\n",
        "z: Z-score (for the desired confidence level, e.g., 1.96 for 95%)\n",
        "\n",
        "s: Sample standard deviation\n",
        "\n",
        "n: Sample size"
      ],
      "metadata": {
        "id": "Gz9OBIcXhbV-"
      }
    },
    {
      "cell_type": "markdown",
      "source": [
        "Step-by-Step in Python\n",
        "Step 1: Import Required Libraries\n",
        "\n",
        "We’ll use numpy for calculations and scipy for critical values (z or t-scores)."
      ],
      "metadata": {
        "id": "P4NrDaz6r_xH"
      }
    },
    {
      "cell_type": "code",
      "source": [
        "import numpy as np\n",
        "from scipy.stats import norm"
      ],
      "metadata": {
        "id": "xzCKea31rBKf"
      },
      "execution_count": 10,
      "outputs": []
    },
    {
      "cell_type": "markdown",
      "source": [
        "Step 2: Example Dataset\n",
        "\n",
        "Let’s use a small dataset to calculate the confidence interval."
      ],
      "metadata": {
        "id": "O-WKmgHjsRx3"
      }
    },
    {
      "cell_type": "code",
      "source": [
        "# Example data: Heights of 10 people (in cm)\n",
        "data = [150, 160, 165, 170, 155, 180, 175, 165, 160, 170]\n",
        "\n",
        "# Convert data into a numpy array (optional, but useful for calculations)\n",
        "data = np.array(data)\n",
        "data"
      ],
      "metadata": {
        "colab": {
          "base_uri": "https://localhost:8080/"
        },
        "id": "fq1RtESesNHa",
        "outputId": "96009373-36b6-4080-c7df-20db94e7c242"
      },
      "execution_count": 11,
      "outputs": [
        {
          "output_type": "execute_result",
          "data": {
            "text/plain": [
              "array([150, 160, 165, 170, 155, 180, 175, 165, 160, 170])"
            ]
          },
          "metadata": {},
          "execution_count": 11
        }
      ]
    },
    {
      "cell_type": "markdown",
      "source": [
        "Step 3: Calculate the Sample Mean (x̄)\n",
        "\n",
        "The sample mean is the average of the dataset."
      ],
      "metadata": {
        "id": "lLnAljsRsWwW"
      }
    },
    {
      "cell_type": "code",
      "source": [
        "mean = np.mean(data)\n",
        "print(\"Sample Mean:\", mean)"
      ],
      "metadata": {
        "colab": {
          "base_uri": "https://localhost:8080/"
        },
        "id": "w2KrnGmbsVlL",
        "outputId": "2c0e631f-323c-4aa6-b6c2-d64aea9e1814"
      },
      "execution_count": 12,
      "outputs": [
        {
          "output_type": "stream",
          "name": "stdout",
          "text": [
            "Sample Mean: 165.0\n"
          ]
        }
      ]
    },
    {
      "cell_type": "markdown",
      "source": [
        "Step 4: Calculate the Sample Standard Deviation (s)\n",
        "\n",
        "The standard deviation measures how spread out the data is.\n",
        "\n",
        "Use ddof=1 for the sample standard deviation."
      ],
      "metadata": {
        "id": "0Cx_7NzJsjl_"
      }
    },
    {
      "cell_type": "code",
      "source": [
        "std_dev = np.std(data, ddof=1)  # Sample standard deviation\n",
        "print(\"Sample Standard Deviation:\", std_dev)"
      ],
      "metadata": {
        "colab": {
          "base_uri": "https://localhost:8080/"
        },
        "id": "LxJQXfYBsuRX",
        "outputId": "dae9e129-2d82-418d-e5e8-5acb92e0f633"
      },
      "execution_count": 13,
      "outputs": [
        {
          "output_type": "stream",
          "name": "stdout",
          "text": [
            "Sample Standard Deviation: 9.128709291752768\n"
          ]
        }
      ]
    },
    {
      "cell_type": "markdown",
      "source": [
        "Step 5: Get the Sample Size (n)\n",
        "\n",
        "The sample size is simply the number of data points."
      ],
      "metadata": {
        "id": "ceUsRkSOswty"
      }
    },
    {
      "cell_type": "code",
      "source": [
        "n = len(data)\n",
        "print(\"Sample Size:\", n)"
      ],
      "metadata": {
        "colab": {
          "base_uri": "https://localhost:8080/"
        },
        "id": "w2qUe7a-supw",
        "outputId": "2a03640a-0904-4e0c-d8e2-cf3ec9b40bbf"
      },
      "execution_count": 14,
      "outputs": [
        {
          "output_type": "stream",
          "name": "stdout",
          "text": [
            "Sample Size: 10\n"
          ]
        }
      ]
    },
    {
      "cell_type": "markdown",
      "source": [
        "Step 6: Find the Z-Score (Critical Value)\n",
        "\n",
        "The Z-score depends on the confidence level (e.g., 95%). For a 95% confidence level, the Z-score is 1.96.\n",
        "\n",
        "Use scipy.stats.norm.ppf() to get the Z-score for any confidence level."
      ],
      "metadata": {
        "id": "R3QFhiqgs4S3"
      }
    },
    {
      "cell_type": "code",
      "source": [
        "confidence_level = 0.95  # 95% confidence level\n",
        "z = norm.ppf(1 - (1 - confidence_level) / 2)  # Z-score for 95% CI\n",
        "print(\"Z-Score:\", z)"
      ],
      "metadata": {
        "colab": {
          "base_uri": "https://localhost:8080/"
        },
        "id": "OYwG4Vlns2cH",
        "outputId": "199101d8-d06a-4051-a3eb-380791606734"
      },
      "execution_count": 15,
      "outputs": [
        {
          "output_type": "stream",
          "name": "stdout",
          "text": [
            "Z-Score: 1.959963984540054\n"
          ]
        }
      ]
    },
    {
      "cell_type": "markdown",
      "source": [
        "Step 7: Calculate the Margin of Error\n",
        "\n",
        "z(s/√n)"
      ],
      "metadata": {
        "id": "YoRX-JJgtDKh"
      }
    },
    {
      "cell_type": "code",
      "source": [
        "margin_of_error = z * (std_dev / np.sqrt(n))\n",
        "print(\"Margin of Error:\", margin_of_error)"
      ],
      "metadata": {
        "colab": {
          "base_uri": "https://localhost:8080/"
        },
        "id": "-SP1UxsGtBhM",
        "outputId": "e1590f87-6f0a-43aa-a502-0f4d9262457c"
      },
      "execution_count": 16,
      "outputs": [
        {
          "output_type": "stream",
          "name": "stdout",
          "text": [
            "Margin of Error: 5.6579286703808584\n"
          ]
        }
      ]
    },
    {
      "cell_type": "markdown",
      "source": [
        "Step 8: Calculate the Confidence Interval\n",
        "Finally, compute the lower and upper bounds of the confidence interval:\n",
        "\n",
        "Lower Bound\n",
        "=\n",
        "x̄\n",
        "−\n",
        "Margin of Error\n",
        "Lower Bound=\n",
        "x̄\n",
        " −Margin of Error\n",
        "\n",
        "Upper Bound\n",
        "=\n",
        "x̄\n",
        "+\n",
        "Margin of Error\n",
        "Upper Bound=\n",
        "x̄\n",
        " +Margin of Error"
      ],
      "metadata": {
        "id": "gYz2-WoZtPll"
      }
    },
    {
      "cell_type": "code",
      "source": [
        "lower_bound = mean - margin_of_error\n",
        "upper_bound = mean + margin_of_error\n",
        "\n",
        "print(\"Confidence Interval:\", (lower_bound, upper_bound))"
      ],
      "metadata": {
        "colab": {
          "base_uri": "https://localhost:8080/"
        },
        "id": "zGst2XHjtNEk",
        "outputId": "a5de2aa0-c7e2-4205-d41c-71534410e76d"
      },
      "execution_count": 17,
      "outputs": [
        {
          "output_type": "stream",
          "name": "stdout",
          "text": [
            "Confidence Interval: (159.34207132961913, 170.65792867038087)\n"
          ]
        }
      ]
    },
    {
      "cell_type": "markdown",
      "source": [
        "Complete Code\n",
        "Here’s everything together in one script:"
      ],
      "metadata": {
        "id": "YM_gc2_3tm8c"
      }
    },
    {
      "cell_type": "code",
      "source": [
        "import numpy as np\n",
        "from scipy.stats import norm\n",
        "\n",
        "# Example data: Heights of 10 people (in cm)\n",
        "data = [150, 160, 165, 170, 155, 180, 175, 165, 160, 170]\n",
        "\n",
        "# Convert data to numpy array\n",
        "data = np.array(data)\n",
        "\n",
        "# Step 1: Calculate sample mean\n",
        "mean = np.mean(data)\n",
        "\n",
        "# Step 2: Calculate sample standard deviation\n",
        "std_dev = np.std(data, ddof=1)\n",
        "\n",
        "# Step 3: Get the sample size\n",
        "n = len(data)\n",
        "\n",
        "# Step 4: Z-Score for 95% confidence level\n",
        "confidence_level = 0.95\n",
        "z = norm.ppf(1 - (1 - confidence_level) / 2)\n",
        "\n",
        "# Step 5: Calculate the margin of error\n",
        "margin_of_error = z * (std_dev / np.sqrt(n))\n",
        "\n",
        "# Step 6: Calculate the confidence interval\n",
        "lower_bound = mean - margin_of_error\n",
        "upper_bound = mean + margin_of_error\n",
        "\n",
        "print(\"Sample Mean:\", mean)\n",
        "print(\"95% Confidence Interval:\", (lower_bound, upper_bound))"
      ],
      "metadata": {
        "colab": {
          "base_uri": "https://localhost:8080/"
        },
        "id": "FCIryJ6Ytjcl",
        "outputId": "19808b71-bb51-4b1b-c3aa-6f088e578686"
      },
      "execution_count": 18,
      "outputs": [
        {
          "output_type": "stream",
          "name": "stdout",
          "text": [
            "Sample Mean: 165.0\n",
            "95% Confidence Interval: (159.34207132961913, 170.65792867038087)\n"
          ]
        }
      ]
    },
    {
      "cell_type": "markdown",
      "source": [
        "3. Central Limit Theorem (CLT)\n",
        "The Central Limit Theorem (CLT) states that:\n",
        "\n",
        "- The sampling distribution of the sample mean approaches a normal distribution as the sample size increases, regardless of the population's original distribution.\n",
        "- This is why the mean of samples is often used for inferential statistics."
      ],
      "metadata": {
        "id": "ptPodS366lLw"
      }
    },
    {
      "cell_type": "markdown",
      "source": [
        "Step-by-Step Explanation\n",
        "1. Create a Non-Normal Population\n",
        "- We simulate a right-skewed population using an exponential distribution.\n",
        "- This represents a population where most values are small, but there are a few large values."
      ],
      "metadata": {
        "id": "MMs57nVv6yZK"
      }
    },
    {
      "cell_type": "code",
      "source": [
        "# population = np.random.exponential(scale=2, size=10000)"
      ],
      "metadata": {
        "id": "vshBfgDt6xuP"
      },
      "execution_count": null,
      "outputs": []
    },
    {
      "cell_type": "markdown",
      "source": [
        "2. Draw Samples and Calculate Their Means\n",
        "- Sample size (n): We pick 30 values in each sample.\n",
        "- Number of samples: We repeat this process 500 times.\n",
        "- Each sample’s mean is calculated and stored in a list."
      ],
      "metadata": {
        "id": "AHWNeDcx66H5"
      }
    },
    {
      "cell_type": "code",
      "source": [
        "# sample = np.random.choice(population, size=sample_size, replace=False)  # Random sample\n",
        "# sample_means.append(np.mean(sample))  # Store the mean of the sample\n"
      ],
      "metadata": {
        "id": "RZmyrgYX6xr0"
      },
      "execution_count": null,
      "outputs": []
    },
    {
      "cell_type": "markdown",
      "source": [
        "3. Visualize the Results\n",
        "- Population Histogram: Shows the original population, which is not normally distributed (it's skewed).\n",
        "- Sampling Distribution: Shows the distribution of sample means, which looks approximately normal due to the CLT."
      ],
      "metadata": {
        "id": "icuyzFkX7EYY"
      }
    },
    {
      "cell_type": "code",
      "source": [
        "# plt.subplot(1, 2, 1)\n",
        "# plt.hist(population, bins=50, color='skyblue', density=True)  # Population\n",
        "# plt.subplot(1, 2, 2)\n",
        "# plt.hist(sample_means, bins=30, color='lightgreen', density=True)  # Sample means"
      ],
      "metadata": {
        "id": "1eMsEcSN6xpQ"
      },
      "execution_count": null,
      "outputs": []
    },
    {
      "cell_type": "markdown",
      "source": [
        "Complete Code Here’s everything together in one script:"
      ],
      "metadata": {
        "id": "hVEt3MWk7TsL"
      }
    },
    {
      "cell_type": "code",
      "source": [
        "import numpy as np\n",
        "import matplotlib.pyplot as plt\n",
        "\n",
        "# 1. Simulate a non-normal population\n",
        "population = np.random.exponential(scale = 2, size = 10000) # Skewed (right-tailed) population\n",
        "\n",
        "# 2. Draw multiple samples and calculate sample means\n",
        "sample_means = []  # To store the mean of each sample\n",
        "smaple_size = 30  # Size of each sample\n",
        "num_samples = 500  # Number of samples to draw\n",
        "\n",
        "\n",
        "for _ in range(num_samples):\n",
        "  sample = np.random.choice(population, size = sample_size, replace = False)   # Random sample\n",
        "  sample_means.append(np.mean(sample))  # Calculate the mean of the sample\n",
        "\n",
        "# 3. Visualize the population and sampling distributions\n",
        "plt.figure(figsize = (10, 5))\n",
        "\n",
        "# Plot the original population distribution\n",
        "plt.subplot(1, 2, 1)\n",
        "plt.hist(population, bins = 50, color = 'skyblue', edgecolor = 'black', density = True)\n",
        "plt.title(\"Population Distribution (Skewed)\")\n",
        "plt.xlabel(\"Value\")\n",
        "plt.ylabel(\"Density\")\n",
        "\n",
        "# Plot the sampling distribution of sample means\n",
        "plt.subplot(1, 2, 2)\n",
        "plt.hist(sample_means, bins = 30, color = 'lightgreen', edgecolor = 'black', density = True)\n",
        "plt.title(\"Sampling Distribution of Sample Means\")\n",
        "plt.xlabel(\"Sample Mean\")\n",
        "plt.ylabel(\"Density\")\n",
        "\n",
        "plt.tight_layout()\n",
        "plt.show()"
      ],
      "metadata": {
        "colab": {
          "base_uri": "https://localhost:8080/",
          "height": 507
        },
        "id": "rA40XzrhtpLg",
        "outputId": "59e2b84c-8ead-43dc-c0b5-a34eb9efa5fa"
      },
      "execution_count": 20,
      "outputs": [
        {
          "output_type": "display_data",
          "data": {
            "text/plain": [
              "<Figure size 1000x500 with 2 Axes>"
            ],
            "image/png": "[encoded data removed]"
          },
          "metadata": {}
        }
      ]
    }
  ]
}