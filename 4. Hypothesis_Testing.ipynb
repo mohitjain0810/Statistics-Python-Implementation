{
  "nbformat": 4,
  "nbformat_minor": 0,
  "metadata": {
    "colab": {
      "provenance": []
    },
    "kernelspec": {
      "name": "python3",
      "display_name": "Python 3"
    },
    "language_info": {
      "name": "python"
    }
  },
  "cells": [
    {
      "cell_type": "markdown",
      "source": [
        "### **Hypothesis Testing**"
      ],
      "metadata": {
        "id": "3i2TltQ20jKm"
      }
    },
    {
      "cell_type": "markdown",
      "source": [
        "\n",
        "1. Null Hypothesis (H₀): Assumes there is no effect or difference.\n",
        "2. Alternative Hypothesis (H₁): Assumes there is an effect or difference.\n",
        "3. Type I Error: Rejecting H0\n",
        "  when it is true (false positive).\n",
        "4. Type II Error: Failing to reject H0​\n",
        "  when it is false (false negative).\n",
        "5. p-value: Probability of observing results as extreme as the sample results, assuming H0​  is true.\n",
        "7. Significance Level (α): Threshold for rejecting H0​\n",
        "  (common value: 0.05)."
      ],
      "metadata": {
        "id": "47yvMeEa0xRz"
      }
    },
    {
      "cell_type": "markdown",
      "source": [
        "**1. t-test**\n",
        "\n",
        "A t-test compares the means of two groups. It is used when the sample size is small, and the population standard deviation is unknown.\n",
        "\n",
        "\n",
        "\n",
        "---\n",
        "\n",
        "\n",
        "\n",
        "**Code for One-Sample t-test:**"
      ],
      "metadata": {
        "id": "rbaZfqWD1S3m"
      }
    },
    {
      "cell_type": "code",
      "execution_count": 3,
      "metadata": {
        "colab": {
          "base_uri": "https://localhost:8080/"
        },
        "id": "0RcMDrih0dVf",
        "outputId": "39d4f96e-f0d2-49a0-dd3e-ab005660e802"
      },
      "outputs": [
        {
          "output_type": "stream",
          "name": "stdout",
          "text": [
            "One-Sample t-test:\n",
            "Sample Data: [75, 80, 85, 70, 95, 90, 85, 78, 88, 92]\n",
            "Hypothesized Population Mean: 85\n",
            "t-statistic: -0.478\n",
            "p-value: 0.644\n",
            "Decision: Fail to reject the null hypothesis. The sample mean is not significantly different from the population mean.\n"
          ]
        }
      ],
      "source": [
        "# Import necessary library\n",
        "from scipy.stats import ttest_1samp\n",
        "\n",
        "# Sample data (e.g., test scores)\n",
        "data = [75, 80, 85, 70, 95, 90, 85, 78, 88, 92]\n",
        "\n",
        "# Hypothesized population mean\n",
        "pop_mean = 85\n",
        "\n",
        "# Null Hypothesis (H₀): The mean of the sample is equal to the population mean (85).\n",
        "# Alternative Hypothesis (H₁): The mean of the sample is not equal to the population mean (85).\n",
        "\n",
        "# Perform the one-sample t-test\n",
        "t_stat, p_value = ttest_1samp(data, pop_mean)\n",
        "\n",
        "# Print results\n",
        "print(\"One-Sample t-test:\")\n",
        "print(f\"Sample Data: {data}\")\n",
        "print(f\"Hypothesized Population Mean: {pop_mean}\")\n",
        "print(f\"t-statistic: {t_stat:.3f}\")\n",
        "print(f\"p-value: {p_value:.3f}\")\n",
        "\n",
        "# Decision-making at a 5% significance level (α = 0.05)\n",
        "alpha = 0.05\n",
        "if p_value < alpha:\n",
        "    print(\"Decision: Reject the null hypothesis. The sample mean is significantly different from the population mean.\")\n",
        "else:\n",
        "    print(\"Decision: Fail to reject the null hypothesis. The sample mean is not significantly different from the population mean.\")"
      ]
    },
    {
      "cell_type": "markdown",
      "source": [
        "Code for Two-Sample t-test:\n",
        "\n",
        "---\n",
        "\n"
      ],
      "metadata": {
        "id": "3YNly3611oJD"
      }
    },
    {
      "cell_type": "code",
      "source": [
        "# Import necessary library\n",
        "from scipy.stats import ttest_ind\n",
        "\n",
        "# Data for two independent groups (e.g., scores of two classes)\n",
        "group1 = [55, 60, 65, 70, 68, 72, 75]\n",
        "group2 = [50, 52, 54, 56, 58, 60, 63]\n",
        "\n",
        "# Null Hypothesis (H₀): The means of the two groups are equal.\n",
        "# Alternative Hypothesis (H₁): The means of the two groups are not equal.\n",
        "\n",
        "# Perform the two-sample t-test\n",
        "t_stat, p_value = ttest_ind(group1, group2)\n",
        "\n",
        "# Print results\n",
        "print(\"\\nTwo-Sample t-test:\")\n",
        "print(f\"Group 1 Data: {group1}\")\n",
        "print(f\"Group 2 Data: {group2}\")\n",
        "print(f\"t-statistic: {t_stat:.3f}\")\n",
        "print(f\"p-value: {p_value:.3f}\")\n",
        "\n",
        "# Decision-making at a 5% significance level\n",
        "alpha = 0.05\n",
        "if p_value < alpha:\n",
        "    print(\"Decision: Reject the null hypothesis. The means of the two groups are significantly different.\")\n",
        "else:\n",
        "    print(\"Decision: Fail to reject the null hypothesis. The means of the two groups are not significantly different.\")"
      ],
      "metadata": {
        "colab": {
          "base_uri": "https://localhost:8080/"
        },
        "id": "vR7KTlD-1enP",
        "outputId": "3faec2ff-0ee7-4e18-e5dc-2d1a03b288eb"
      },
      "execution_count": 4,
      "outputs": [
        {
          "output_type": "stream",
          "name": "stdout",
          "text": [
            "\n",
            "Two-Sample t-test:\n",
            "Group 1 Data: [55, 60, 65, 70, 68, 72, 75]\n",
            "Group 2 Data: [50, 52, 54, 56, 58, 60, 63]\n",
            "t-statistic: 3.258\n",
            "p-value: 0.007\n",
            "Decision: Reject the null hypothesis. The means of the two groups are significantly different.\n"
          ]
        }
      ]
    },
    {
      "cell_type": "markdown",
      "source": [
        "### **2. z-test**\n",
        "\n",
        "A z-test is used to compare means when the population standard deviation is known, and the sample size is large."
      ],
      "metadata": {
        "id": "SI1FUlrt2uAn"
      }
    },
    {
      "cell_type": "code",
      "source": [
        "import numpy as np\n",
        "from scipy.stats import norm\n",
        "\n",
        "# Sample data\n",
        "sample_mean = 75\n",
        "pop_mean = 80  # Hypothesized population mean\n",
        "pop_std = 10  # Known population standard deviation\n",
        "n = 30  # Sample size\n",
        "\n",
        "# Calculate z-score\n",
        "z_score = (sample_mean - pop_mean) / (pop_std / np.sqrt(n))\n",
        "\n",
        "# p-value for two-tailed test\n",
        "p_value = 2 * (1 - norm.cdf(abs(z_score)))\n",
        "\n",
        "print(\"Z-test:\")\n",
        "print(f\"z-score: {z_score:.3f}\")\n",
        "print(f\"p-value: {p_value:.3f}\")\n",
        "\n",
        "# Decision\n",
        "if p_value < 0.05:\n",
        "    print(\"Reject the null hypothesis: Mean is significantly different.\")\n",
        "else:\n",
        "    print(\"Fail to reject the null hypothesis: No significant difference.\")"
      ],
      "metadata": {
        "colab": {
          "base_uri": "https://localhost:8080/"
        },
        "id": "WYFYf6Z02h4D",
        "outputId": "9a6ac5a2-da47-46b5-883f-c20a052c8640"
      },
      "execution_count": 5,
      "outputs": [
        {
          "output_type": "stream",
          "name": "stdout",
          "text": [
            "Z-test:\n",
            "z-score: -2.739\n",
            "p-value: 0.006\n",
            "Reject the null hypothesis: Mean is significantly different.\n"
          ]
        }
      ]
    },
    {
      "cell_type": "markdown",
      "source": [
        "### **3. One-Way ANOVA**\n",
        "\n",
        "\n",
        "ANOVA compares means across three or more groups to determine if at least one mean is different."
      ],
      "metadata": {
        "id": "mAgDwvIG3Q0O"
      }
    },
    {
      "cell_type": "code",
      "source": [
        "# Import necessary library\n",
        "from scipy.stats import f_oneway\n",
        "\n",
        "# Data for three groups (e.g., scores from three teaching methods)\n",
        "group1 = [88, 90, 85, 87, 89]\n",
        "group2 = [92, 95, 93, 91, 94]\n",
        "group3 = [85, 84, 86, 88, 87]\n",
        "\n",
        "# Null Hypothesis (H₀): All group means are equal.\n",
        "# Alternative Hypothesis (H₁): At least one group mean is significantly different.\n",
        "\n",
        "# Perform one-way ANOVA\n",
        "f_stat, p_value = f_oneway(group1, group2, group3)\n",
        "\n",
        "# Print results\n",
        "print(\"\\nOne-Way ANOVA:\")\n",
        "print(f\"Group 1 Data: {group1}\")\n",
        "print(f\"Group 2 Data: {group2}\")\n",
        "print(f\"Group 3 Data: {group3}\")\n",
        "print(f\"F-statistic: {f_stat:.3f}\")\n",
        "print(f\"p-value: {p_value:.3f}\")\n",
        "\n",
        "# Decision-making at a 5% significance level\n",
        "alpha = 0.05\n",
        "if p_value < alpha:\n",
        "    print(\"Decision: Reject the null hypothesis. At least one group mean is significantly different.\")\n",
        "else:\n",
        "    print(\"Decision: Fail to reject the null hypothesis. No significant difference between group means.\")"
      ],
      "metadata": {
        "colab": {
          "base_uri": "https://localhost:8080/"
        },
        "id": "O4Gkf5AT3HUx",
        "outputId": "73e0ef5d-e9c5-4853-f945-a5ebee93a2ea"
      },
      "execution_count": 6,
      "outputs": [
        {
          "output_type": "stream",
          "name": "stdout",
          "text": [
            "\n",
            "One-Way ANOVA:\n",
            "Group 1 Data: [88, 90, 85, 87, 89]\n",
            "Group 2 Data: [92, 95, 93, 91, 94]\n",
            "Group 3 Data: [85, 84, 86, 88, 87]\n",
            "F-statistic: 22.782\n",
            "p-value: 0.000\n",
            "Decision: Reject the null hypothesis. At least one group mean is significantly different.\n"
          ]
        }
      ]
    },
    {
      "cell_type": "markdown",
      "source": [
        "4. Chi-Square Test\n",
        "\n",
        "\n",
        "A Chi-Square Test checks if there is an association between two categorical variables."
      ],
      "metadata": {
        "id": "k0sftjfZ3jv-"
      }
    },
    {
      "cell_type": "code",
      "source": [
        "# Import necessary library\n",
        "from scipy.stats import chi2_contingency\n",
        "\n",
        "# Contingency table (e.g., survey data with two variables: gender and preference)\n",
        "# Rows: Male and Female, Columns: Prefer A, Prefer B\n",
        "data = [[50, 30],  # Male responses\n",
        "        [20, 80]]  # Female responses\n",
        "\n",
        "# Null Hypothesis (H₀): The variables (gender and preference) are independent.\n",
        "# Alternative Hypothesis (H₁): The variables are dependent.\n",
        "\n",
        "# Perform the Chi-Square test\n",
        "chi2_stat, p_value, dof, expected = chi2_contingency(data)\n",
        "\n",
        "# Print results\n",
        "print(\"\\nChi-Square Test:\")\n",
        "print(f\"Contingency Table:\\n{data}\")\n",
        "print(f\"Chi-square statistic: {chi2_stat:.3f}\")\n",
        "print(f\"p-value: {p_value:.3f}\")\n",
        "print(f\"Degrees of freedom: {dof}\")\n",
        "print(f\"Expected Frequencies:\\n{expected}\")\n",
        "\n",
        "# Decision-making at a 5% significance level\n",
        "alpha = 0.05\n",
        "if p_value < alpha:\n",
        "    print(\"Decision: Reject the null hypothesis. The variables are dependent.\")\n",
        "else:\n",
        "    print(\"Decision: Fail to reject the null hypothesis. The variables are independent.\")"
      ],
      "metadata": {
        "colab": {
          "base_uri": "https://localhost:8080/"
        },
        "id": "0e4AwBxk3bTW",
        "outputId": "ff7fdd8e-8877-402a-a8f1-421402199a37"
      },
      "execution_count": 7,
      "outputs": [
        {
          "output_type": "stream",
          "name": "stdout",
          "text": [
            "\n",
            "Chi-Square Test:\n",
            "Contingency Table:\n",
            "[[50, 30], [20, 80]]\n",
            "Chi-square statistic: 32.015\n",
            "p-value: 0.000\n",
            "Degrees of freedom: 1\n",
            "Expected Frequencies:\n",
            "[[31.11111111 48.88888889]\n",
            " [38.88888889 61.11111111]]\n",
            "Decision: Reject the null hypothesis. The variables are dependent.\n"
          ]
        }
      ]
    },
    {
      "cell_type": "markdown",
      "source": [
        "Summary:\n",
        "1. t-test: Compare means of two groups (small sample).\n",
        "2. z-test: Compare means when population standard deviation is known (large sample).\n",
        "3. ANOVA: Compare means of three or more groups.\n",
        "4. Chi-Square Test: Check for associations between categorical variables.\n",
        "\n",
        "\n",
        "\n",
        "\n",
        "\n",
        "\n",
        "---\n",
        "\n",
        "\n",
        "\n",
        "Key Features of Each Test:\n",
        "1. One-Sample t-test: Tests whether a single sample mean differs from a known value.\n",
        "2. Two-Sample t-test: Compares means between two groups.\n",
        "3. Two-Sample z-test: Similar to the t-test but used for large samples or known variance.\n",
        "4. One-Way ANOVA: Compares means across three or more groups.\n",
        "5. Chi-Square Test: Tests independence between categorical variables."
      ],
      "metadata": {
        "id": "rc401De931Oe"
      }
    },
    {
      "cell_type": "code",
      "source": [],
      "metadata": {
        "id": "M-1B7rKt3xVj"
      },
      "execution_count": null,
      "outputs": []
    }
  ]
}